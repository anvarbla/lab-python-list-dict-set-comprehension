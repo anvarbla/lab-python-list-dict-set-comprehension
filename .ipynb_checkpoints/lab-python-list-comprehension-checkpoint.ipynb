{
 "cells": [
  {
   "cell_type": "markdown",
   "id": "25d7736c-ba17-4aff-b6bb-66eba20fbf4e",
   "metadata": {},
   "source": [
    "# Lab | List, Dict and Set Comprehension"
   ]
  },
  {
   "cell_type": "markdown",
   "id": "7dd3cbde-675a-4b81-92c3-f728846dbe06",
   "metadata": {},
   "source": [
    "## Exercise: Managing Customer Orders Optimized with Comprehension"
   ]
  },
  {
   "cell_type": "markdown",
   "id": "5d500160-2fb7-4777-b5e4-09d45ebaf328",
   "metadata": {},
   "source": [
    "In the previous exercise, you developed a program to manage customer orders and inventory. Now, let's take it a step further and incorporate comprehension into your code.\n",
    "\n",
    "Follow the steps below to complete the exercise:\n",
    "\n",
    "1. Review your code from the previous exercise and identify areas where you can apply comprehension to simplify and streamline your code. \n",
    "\n",
    "    - *Hint: Apply it to initialize inventory, updating the inventory and printing the updated inventory.*\n",
    "    \n",
    "    - For example, in initializing the inventory, we could have:\n",
    "    \n",
    "        ```python\n",
    "        def initialize_inventory(products):\n",
    "            inventory = {product: int(input(f\"Enter the quantity of {product}s available: \")) for product in products}\n",
    "            return inventory\n",
    "\n",
    "        ```\n",
    "<br>\n",
    "    \n",
    "    \n",
    "2. Modify the function get_customer_orders so it prompts the user to enter the number of customer orders and gathers the product names using a loop and user input. Use comprehension.\n",
    "\n",
    "3. Add a new function to calculate the total price of the customer order. For each product in customer_orders, prompt the user to enter the price of that product. Use comprehension to calculate the total price. Note: assume that the user can only have 1 unit of each product.\n",
    "\n",
    "4. Modify the update_inventory function to remove the product from the inventory if its quantity becomes zero after fulfilling the customer orders. Use comprehension to filter out the products with a quantity of zero from the inventory.\n",
    "\n",
    "5. Print the total price of the customer order.\n",
    "\n",
    "Your code should produce output similar to the following:\n",
    "\n",
    "```python\n",
    "Enter the quantity of t-shirts available:  5\n",
    "Enter the quantity of mugs available:  4\n",
    "Enter the quantity of hats available:  3\n",
    "Enter the quantity of books available:  2\n",
    "Enter the quantity of keychains available:  1\n",
    "Enter the number of customer orders:  2\n",
    "Enter the name of a product that a customer wants to order:  hat\n",
    "Enter the name of a product that a customer wants to order:  keychain\n",
    "\n",
    "Order Statistics:\n",
    "Total Products Ordered: 2\n",
    "Percentage of Unique Products Ordered: 40.0\n",
    "\n",
    "Updated Inventory:\n",
    "t-shirt: 5\n",
    "mug: 4\n",
    "hat: 2\n",
    "book: 2\n",
    "Enter the price of keychain:  5\n",
    "Enter the price of hat:  10\n",
    "Total Price: 15.0\n",
    "\n",
    "```\n"
   ]
  },
  {
   "cell_type": "code",
   "execution_count": 59,
   "id": "829545c9-667c-4dd5-9360-c1fe638777d2",
   "metadata": {},
   "outputs": [
    {
     "name": "stdin",
     "output_type": "stream",
     "text": [
      "Enter the quantity of t-shirts available:  1\n",
      "Enter the quantity of mugs available:  1\n",
      "Enter the quantity of hats available:  1\n",
      "Enter the quantity of books available:  1\n",
      "Enter the quantity of keychains available:  1\n",
      "How many object you want to buy?: 2\n",
      "¿Qué producto deseas comprar?:  mug\n",
      "¿Qué producto deseas comprar?:  hat\n"
     ]
    },
    {
     "name": "stdout",
     "output_type": "stream",
     "text": [
      "Order Statistics:\n",
      "Total Products Ordered: 2\n",
      "Percentage of Unique Products Ordered: 40.0\n",
      "Updated Inventory:\n",
      "{'t-shirt': 1, 'book': 1, 'keychain': 1}\n"
     ]
    },
    {
     "name": "stdin",
     "output_type": "stream",
     "text": [
      "What is the price of mug?  2\n",
      "What is the price of hat?  3\n"
     ]
    },
    {
     "name": "stdout",
     "output_type": "stream",
     "text": [
      "The total price is: 5\n"
     ]
    }
   ],
   "source": [
    "#Load the objects\n",
    "products=[\"t-shirt\",\"mug\",\"hat\",\"book\",\"keychain\"]\n",
    "\n",
    "\n",
    "#Functions\n",
    "\n",
    "#Creat the inventory\n",
    "inventory = {product: int(input(f\"Enter the quantity of {product}s available: \")) for product in products}\n",
    "   \n",
    "#Get customer order\n",
    "def get_customer_orders ():\n",
    "    objects_to_buy=int(input(\"How many object you want to buy?:\"))\n",
    "    orders_list = [input(\"Which product you wanna buy: \").lower() for _ in range(objects_to_buy)]\n",
    "    producto_set = {product for product in orders_list if product in products}    \n",
    "    \n",
    "    return producto_set\n",
    "\n",
    "#Calculate statistics\n",
    "def calculate_order_statistics (customer_orders, products):\n",
    "    total_products_ordered =len(customer_orders)\n",
    "    available_products=(total_products_ordered)/len(products) * 100\n",
    "    order_status=(total_products_ordered,available_products)\n",
    "    return order_status\n",
    "    print (order_status)\n",
    "\n",
    "\n",
    "#Calculate price\n",
    "def calculate_total_price(customer_orders):\n",
    "    price_sum = [int(input(f\"What is the price of {product}? \")) for product in customer_orders]\n",
    "    total_price = sum(price_sum)\n",
    "    return total_price\n",
    "    \n",
    "\n",
    "\n",
    "#Print statistics\n",
    "def print_order_statistics(order_statistics):\n",
    "    print(\"Order Statistics:\")\n",
    "    print(\"Total Products Ordered:\", order_statistics[0])\n",
    "    print(\"Percentage of Unique Products Ordered:\", order_statistics[1])\n",
    "\n",
    "#Update inventory\n",
    "def update_inventory(customer_orders, inventory):\n",
    "    updated_inventory = {product: (inventory[product] - 1 if product in customer_orders and inventory[product] > 0 else inventory[product]) for product in inventory}\n",
    "    updated_inventory={product:qty for product, qty in updated_inventory.items() if qty > 0}\n",
    "    return updated_inventory\n",
    "    \n",
    "\n",
    "\n",
    "#Actions\n",
    "customer_orders= get_customer_orders ()\n",
    "calculate_order_statistics (customer_orders, products)\n",
    "order_status = calculate_order_statistics(customer_orders, products)\n",
    "update_inventory (order_status, inventory)\n",
    "print_order_statistics(order_status)\n",
    "\n",
    "print(\"Updated Inventory:\")\n",
    "print(update_inventory(customer_orders, inventory))\n",
    "final_price=calculate_total_price(customer_orders)\n",
    "print(f\"The total price is: {final_price}\")"
   ]
  },
  {
   "cell_type": "code",
   "execution_count": null,
   "id": "42878157-a3a2-4fe6-aa9d-16a508696ce9",
   "metadata": {},
   "outputs": [],
   "source": []
  }
 ],
 "metadata": {
  "kernelspec": {
   "display_name": "Python [conda env:base] *",
   "language": "python",
   "name": "conda-base-py"
  },
  "language_info": {
   "codemirror_mode": {
    "name": "ipython",
    "version": 3
   },
   "file_extension": ".py",
   "mimetype": "text/x-python",
   "name": "python",
   "nbconvert_exporter": "python",
   "pygments_lexer": "ipython3",
   "version": "3.12.7"
  }
 },
 "nbformat": 4,
 "nbformat_minor": 5
}
